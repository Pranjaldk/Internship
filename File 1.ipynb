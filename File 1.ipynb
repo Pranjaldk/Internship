{
 "cells": [
  {
   "cell_type": "markdown",
   "id": "af3e5cf3",
   "metadata": {},
   "source": [
    "# MCQ - Assignment"
   ]
  },
  {
   "cell_type": "raw",
   "id": "45f34751",
   "metadata": {},
   "source": [
    "Answers:-"
   ]
  },
  {
   "cell_type": "markdown",
   "id": "27fbe24b",
   "metadata": {},
   "source": [
    "# 1)"
   ]
  },
  {
   "cell_type": "code",
   "execution_count": 1,
   "id": "67426a46",
   "metadata": {},
   "outputs": [
    {
     "name": "stdout",
     "output_type": "stream",
     "text": [
      "15\n"
     ]
    }
   ],
   "source": [
    "def func(a, b):\n",
    " return b if a == 0 else func(b % a, a)\n",
    "print(func(30, 75))"
   ]
  },
  {
   "cell_type": "markdown",
   "id": "e1729928",
   "metadata": {},
   "source": [
    "# 2 )"
   ]
  },
  {
   "cell_type": "code",
   "execution_count": 2,
   "id": "5eed87c5",
   "metadata": {},
   "outputs": [
    {
     "name": "stdout",
     "output_type": "stream",
     "text": [
      "<class 'filter'>\n"
     ]
    }
   ],
   "source": [
    "numbers = (4, 7, 19, 2, 89, 45, 72, 22)\n",
    "sorted_numbers = sorted(numbers)\n",
    "even = lambda a: a % 2 == 0\n",
    "even_numbers = filter(even, sorted_numbers)\n",
    "print(type(even_numbers))\n"
   ]
  },
  {
   "cell_type": "markdown",
   "id": "11b8a95d",
   "metadata": {},
   "source": [
    "# 3)"
   ]
  },
  {
   "cell_type": "markdown",
   "id": "ca43ec2a",
   "metadata": {},
   "source": [
    "Tuple"
   ]
  },
  {
   "cell_type": "markdown",
   "id": "a907eaf1",
   "metadata": {},
   "source": [
    "# 4)"
   ]
  },
  {
   "cell_type": "markdown",
   "id": "867e8555",
   "metadata": {},
   "source": [
    "D"
   ]
  },
  {
   "cell_type": "markdown",
   "id": "d8df58cb",
   "metadata": {},
   "source": [
    "# 5)"
   ]
  },
  {
   "cell_type": "markdown",
   "id": "c0d0fe21",
   "metadata": {},
   "source": [
    "Raise"
   ]
  },
  {
   "cell_type": "markdown",
   "id": "65712e04",
   "metadata": {},
   "source": [
    "# 6)"
   ]
  },
  {
   "cell_type": "markdown",
   "id": "2e93cc4a",
   "metadata": {},
   "source": [
    "datetime"
   ]
  },
  {
   "cell_type": "markdown",
   "id": "b61da3a8",
   "metadata": {},
   "source": [
    "# 7)"
   ]
  },
  {
   "cell_type": "code",
   "execution_count": 8,
   "id": "0c8adf4f",
   "metadata": {},
   "outputs": [
    {
     "name": "stdout",
     "output_type": "stream",
     "text": [
      "208\n"
     ]
    }
   ],
   "source": [
    "print(4**3 + (7 + 5)**(1 + 1))"
   ]
  },
  {
   "cell_type": "markdown",
   "id": "cac1e79a",
   "metadata": {},
   "source": [
    "# 8)"
   ]
  },
  {
   "cell_type": "markdown",
   "id": "07bb2ff9",
   "metadata": {},
   "source": [
    "strptime\n"
   ]
  },
  {
   "cell_type": "markdown",
   "id": "f3c8ca8d",
   "metadata": {},
   "source": [
    "# 9)"
   ]
  },
  {
   "cell_type": "markdown",
   "id": "a65b1a34",
   "metadata": {},
   "source": [
    "immutable"
   ]
  },
  {
   "cell_type": "markdown",
   "id": "ee7ca48d",
   "metadata": {},
   "source": [
    "# 10)"
   ]
  },
  {
   "cell_type": "markdown",
   "id": "94c8a635",
   "metadata": {},
   "source": [
    "range()"
   ]
  },
  {
   "cell_type": "markdown",
   "id": "44f0ca70",
   "metadata": {},
   "source": [
    "# 11)"
   ]
  },
  {
   "cell_type": "markdown",
   "id": "ccaac692",
   "metadata": {},
   "source": [
    "None of the mentioned above"
   ]
  },
  {
   "cell_type": "markdown",
   "id": "ef7776bf",
   "metadata": {},
   "source": [
    "# 12)"
   ]
  },
  {
   "cell_type": "markdown",
   "id": "0792277a",
   "metadata": {},
   "source": [
    "Both A and B"
   ]
  },
  {
   "cell_type": "markdown",
   "id": "1007a020",
   "metadata": {},
   "source": [
    "# 13) "
   ]
  },
  {
   "cell_type": "markdown",
   "id": "88c51a9a",
   "metadata": {},
   "source": [
    "dump() method"
   ]
  },
  {
   "cell_type": "markdown",
   "id": "40b01fc7",
   "metadata": {},
   "source": [
    "# 14)"
   ]
  },
  {
   "cell_type": "markdown",
   "id": "232df641",
   "metadata": {},
   "source": [
    "load()"
   ]
  },
  {
   "cell_type": "markdown",
   "id": "e9c6ccba",
   "metadata": {},
   "source": [
    "# 15)"
   ]
  },
  {
   "cell_type": "markdown",
   "id": "0dfb153c",
   "metadata": {},
   "source": [
    "All of the mentioned above"
   ]
  },
  {
   "cell_type": "markdown",
   "id": "0fb31c49",
   "metadata": {},
   "source": [
    "# 16)"
   ]
  },
  {
   "cell_type": "code",
   "execution_count": 10,
   "id": "58155176",
   "metadata": {},
   "outputs": [
    {
     "ename": "SyntaxError",
     "evalue": "invalid syntax (906430258.py, line 6)",
     "output_type": "error",
     "traceback": [
      "\u001b[1;36m  Input \u001b[1;32mIn [10]\u001b[1;36m\u001b[0m\n\u001b[1;33m    Enterprise Picard,\u001b[0m\n\u001b[1;37m               ^\u001b[0m\n\u001b[1;31mSyntaxError\u001b[0m\u001b[1;31m:\u001b[0m invalid syntax\n"
     ]
    }
   ],
   "source": [
    "captains = {\n",
    " \"Enterprise\": \"Picard\",\n",
    " \"Voyager\": \"Janeway\",\n",
    " \"Defiant\": \"Sisko\",\n",
    "}\n",
    "Enterprise Picard,\n",
    " Voyager Janeway\n",
    " Defiant Sisko"
   ]
  },
  {
   "cell_type": "markdown",
   "id": "54a4028c",
   "metadata": {},
   "source": [
    "# 17)"
   ]
  },
  {
   "cell_type": "markdown",
   "id": "129e6244",
   "metadata": {},
   "source": [
    "C"
   ]
  },
  {
   "cell_type": "markdown",
   "id": "8f81d23a",
   "metadata": {},
   "source": [
    "# 18)"
   ]
  },
  {
   "cell_type": "markdown",
   "id": "26dcb377",
   "metadata": {},
   "source": [
    "d"
   ]
  },
  {
   "cell_type": "markdown",
   "id": "b8db26dd",
   "metadata": {},
   "source": [
    "# 19)"
   ]
  },
  {
   "cell_type": "markdown",
   "id": "f0158af1",
   "metadata": {},
   "source": [
    "C"
   ]
  },
  {
   "cell_type": "markdown",
   "id": "524982a0",
   "metadata": {},
   "source": [
    "# 20)"
   ]
  },
  {
   "cell_type": "markdown",
   "id": "ed2a376d",
   "metadata": {},
   "source": [
    "C"
   ]
  },
  {
   "cell_type": "code",
   "execution_count": null,
   "id": "5d02c194",
   "metadata": {},
   "outputs": [],
   "source": []
  }
 ],
 "metadata": {
  "kernelspec": {
   "display_name": "Python 3 (ipykernel)",
   "language": "python",
   "name": "python3"
  },
  "language_info": {
   "codemirror_mode": {
    "name": "ipython",
    "version": 3
   },
   "file_extension": ".py",
   "mimetype": "text/x-python",
   "name": "python",
   "nbconvert_exporter": "python",
   "pygments_lexer": "ipython3",
   "version": "3.9.12"
  }
 },
 "nbformat": 4,
 "nbformat_minor": 5
}
